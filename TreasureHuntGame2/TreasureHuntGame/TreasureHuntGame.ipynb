{
 "cells": [
  {
   "cell_type": "markdown",
   "metadata": {},
   "source": [
    "# Treasure Hunt Game Notebook\n",
    "\n",
    "## Read and Review Your Starter Code\n",
    "The theme of this project is a popular treasure hunt game in which the player needs to find the treasure before the pirate does. While you will not be developing the entire game, you will write the part of the game that represents the intelligent agent, which is a pirate in this case. The pirate will try to find the optimal path to the treasure using deep Q-learning. \n",
    "\n",
    "You have been provided with two Python classes and this notebook to help you with this assignment. The first class, TreasureMaze.py, represents the environment, which includes a maze object defined as a matrix. The second class, GameExperience.py, stores the episodes – that is, all the states that come in between the initial state and the terminal state. This is later used by the agent for learning by experience, called \"exploration\". This notebook shows how to play a game. Your task is to complete the deep Q-learning implementation for which a skeleton implementation has been provided. The code blocks you will need to complete has #TODO as a header.\n",
    "\n",
    "First, read and review the next few code and instruction blocks to understand the code that you have been given."
   ]
  },
  {
   "cell_type": "code",
   "execution_count": 179,
   "metadata": {},
   "outputs": [],
   "source": [
    "from __future__ import print_function\n",
    "import os, sys, time, datetime, json, random\n",
    "import numpy as np\n",
    "from keras.models import Sequential\n",
    "from keras.layers.core import Dense, Activation\n",
    "from keras.optimizers import SGD , Adam, RMSprop\n",
    "from keras.layers.advanced_activations import PReLU\n",
    "import matplotlib.pyplot as plt\n",
    "from TreasureMaze import TreasureMaze\n",
    "from GameExperience import GameExperience\n",
    "%matplotlib inline"
   ]
  },
  {
   "cell_type": "markdown",
   "metadata": {},
   "source": [
    "The following code block contains an 8x8 matrix that will be used as a maze object:"
   ]
  },
  {
   "cell_type": "code",
   "execution_count": 180,
   "metadata": {},
   "outputs": [],
   "source": [
    "maze = np.array([\n",
    "    [ 1.,  0.,  1.,  1.,  1.,  1.,  1.,  1.],\n",
    "    [ 1.,  0.,  1.,  1.,  1.,  0.,  1.,  1.],\n",
    "    [ 1.,  1.,  1.,  1.,  0.,  1.,  0.,  1.],\n",
    "    [ 1.,  1.,  1.,  0.,  1.,  1.,  1.,  1.],\n",
    "    [ 1.,  1.,  0.,  1.,  1.,  1.,  1.,  1.],\n",
    "    [ 1.,  1.,  1.,  0.,  1.,  0.,  0.,  0.],\n",
    "    [ 1.,  1.,  1.,  0.,  1.,  1.,  1.,  1.],\n",
    "    [ 1.,  1.,  1.,  1.,  0.,  1.,  1.,  1.]\n",
    "])"
   ]
  },
  {
   "cell_type": "markdown",
   "metadata": {},
   "source": [
    "This helper function allows a visual representation of the maze object:"
   ]
  },
  {
   "cell_type": "code",
   "execution_count": 181,
   "metadata": {},
   "outputs": [],
   "source": [
    "def show(qmaze):\n",
    "    plt.grid('on')\n",
    "    nrows, ncols = qmaze.maze.shape\n",
    "    ax = plt.gca()\n",
    "    ax.set_xticks(np.arange(0.5, nrows, 1))\n",
    "    ax.set_yticks(np.arange(0.5, ncols, 1))\n",
    "    ax.set_xticklabels([])\n",
    "    ax.set_yticklabels([])\n",
    "    canvas = np.copy(qmaze.maze)\n",
    "    for row,col in qmaze.visited:\n",
    "        canvas[row,col] = 0.6\n",
    "    pirate_row, pirate_col, _ = qmaze.state\n",
    "    canvas[pirate_row, pirate_col] = 0.3   # pirate cell\n",
    "    canvas[nrows-1, ncols-1] = 0.9 # treasure cell\n",
    "    img = plt.imshow(canvas, interpolation='none', cmap='gray')\n",
    "    return img"
   ]
  },
  {
   "cell_type": "markdown",
   "metadata": {},
   "source": [
    "The pirate agent can move in four directions: left, right, up, and down. \n",
    "\n",
    "While the agent primarily learns by experience through exploitation, often, the agent can choose to explore the environment to find previously undiscovered paths. This is called \"exploration\" and is defined by epsilon. This value is typically a lower value such as 0.1, which means for every ten attempts, the agent will attempt to learn by experience nine times and will randomly explore a new path one time. You are encouraged to try various values for the exploration factor and see how the algorithm performs."
   ]
  },
  {
   "cell_type": "code",
   "execution_count": 182,
   "metadata": {},
   "outputs": [],
   "source": [
    "LEFT = 0\n",
    "UP = 1\n",
    "RIGHT = 2\n",
    "DOWN = 3\n",
    "\n",
    "\n",
    "# Exploration factor\n",
    "epsilon = 0.1\n",
    "\n",
    "# Actions dictionary\n",
    "actions_dict = {\n",
    "    LEFT: 'left',\n",
    "    UP: 'up',\n",
    "    RIGHT: 'right',\n",
    "    DOWN: 'down',\n",
    "}\n",
    "\n",
    "num_actions = len(actions_dict)\n"
   ]
  },
  {
   "cell_type": "markdown",
   "metadata": {},
   "source": [
    "The sample code block and output below show creating a maze object and performing one action (DOWN), which returns the reward. The resulting updated environment is visualized."
   ]
  },
  {
   "cell_type": "code",
   "execution_count": 183,
   "metadata": {},
   "outputs": [
    {
     "name": "stdout",
     "output_type": "stream",
     "text": [
      "reward= -0.04\n"
     ]
    },
    {
     "data": {
      "text/plain": [
       "<matplotlib.image.AxesImage at 0x2157a4f9dd8>"
      ]
     },
     "execution_count": 183,
     "metadata": {},
     "output_type": "execute_result"
    },
    {
     "data": {
      "image/png": "[encoded data removed]",
      "text/plain": [
       "<Figure size 432x288 with 1 Axes>"
      ]
     },
     "metadata": {
      "needs_background": "light"
     },
     "output_type": "display_data"
    }
   ],
   "source": [
    "qmaze = TreasureMaze(maze)\n",
    "canvas, reward, game_over = qmaze.act(DOWN)\n",
    "print(\"reward=\", reward)\n",
    "show(qmaze)"
   ]
  },
  {
   "cell_type": "markdown",
   "metadata": {},
   "source": [
    "This function simulates a full game based on the provided trained model. The other parameters include the TreasureMaze object and the starting position of the pirate."
   ]
  },
  {
   "cell_type": "code",
   "execution_count": 184,
   "metadata": {},
   "outputs": [],
   "source": [
    "def play_game(model, qmaze, pirate_cell):\n",
    "    qmaze.reset(pirate_cell)\n",
    "    envstate = qmaze.observe()\n",
    "    while True:\n",
    "        prev_envstate = envstate\n",
    "        # get next action\n",
    "        q = model.predict(prev_envstate)\n",
    "        action = np.argmax(q[0])\n",
    "\n",
    "        # apply action, get rewards and new state\n",
    "        envstate, reward, game_status = qmaze.act(action)\n",
    "        if game_status == 'win':\n",
    "            return True\n",
    "        elif game_status == 'lose':\n",
    "            return False"
   ]
  },
  {
   "cell_type": "markdown",
   "metadata": {},
   "source": [
    "This function helps you to determine whether the pirate can win any game at all. If your maze is not well designed, the pirate may not win any game at all. In this case, your training would not yield any result. The provided maze in this notebook ensures that there is a path to win and you can run this method to check."
   ]
  },
  {
   "cell_type": "code",
   "execution_count": 185,
   "metadata": {},
   "outputs": [],
   "source": [
    "def completion_check(model, qmaze):\n",
    "    for cell in qmaze.free_cells:\n",
    "        if not qmaze.valid_actions(cell):\n",
    "            return False\n",
    "        if not play_game(model, qmaze, cell):\n",
    "            return False\n",
    "    return True"
   ]
  },
  {
   "cell_type": "markdown",
   "metadata": {},
   "source": [
    "The code you have been given in this block will build the neural network model. Review the code and note the number of layers, as well as the activation, optimizer, and loss functions that are used to train the model."
   ]
  },
  {
   "cell_type": "code",
   "execution_count": 186,
   "metadata": {},
   "outputs": [],
   "source": [
    "def build_model(maze):\n",
    "    model = Sequential()\n",
    "    model.add(Dense(maze.size, input_shape=(maze.size,)))\n",
    "    model.add(PReLU())\n",
    "    model.add(Dense(maze.size))\n",
    "    model.add(PReLU())\n",
    "    model.add(Dense(num_actions))\n",
    "    model.compile(optimizer='adam', loss='mse')\n",
    "    return model"
   ]
  },
  {
   "cell_type": "markdown",
   "metadata": {},
   "source": [
    "# #TODO: Complete the Q-Training Algorithm Code Block\n",
    "\n",
    "This is your deep Q-learning implementation. The goal of your deep Q-learning implementation is to find the best possible navigation sequence that results in reaching the treasure cell while maximizing the reward. In your implementation, you need to determine the optimal number of epochs to achieve a 100% win rate.\n",
    "\n",
    "You will need to complete the section starting with #pseudocode. The pseudocode has been included for you."
   ]
  },
  {
   "cell_type": "code",
   "execution_count": null,
   "metadata": {},
   "outputs": [],
   "source": [
    "def qtrain(model, maze, **opt):\n",
    "\n",
    "    # exploration factor\n",
    "    global epsilon \n",
    "\n",
    "    # number of epochs\n",
    "    n_epoch = opt.get('n_epoch', 15000)\n",
    "\n",
    "    # maximum memory to store episodes\n",
    "    max_memory = opt.get('max_memory', 1000)\n",
    "\n",
    "    # maximum data size for training\n",
    "    data_size = opt.get('data_size', 50)\n",
    "\n",
    "    # start time\n",
    "    start_time = datetime.datetime.now()\n",
    "\n",
    "    # Construct environment/game from numpy array: maze (see above)\n",
    "    qmaze = TreasureMaze(maze)\n",
    "\n",
    "    # Initialize experience replay object\n",
    "    experience = GameExperience(model, max_memory=max_memory)\n",
    "    \n",
    "    win_history = []   # history of win/lose game\n",
    "    hsize = qmaze.maze.size//2   # history window size\n",
    "    win_rate = 0.0\n",
    "    \n",
    "    for epoch in range(opt['epochs']):\n",
    "        n_episodes = 0\n",
    "    #    Randomly select a free cell\n",
    "        agent_cell = random.choice(qmaze.free_cells)\n",
    "    #    Reset the maze with agent set to above position\n",
    "        qmaze.reset(agent_cell)\n",
    "    #    Return current environment state\n",
    "        envstate = qmaze.observe()\n",
    "    #    Get game status\n",
    "        game_status = qmaze.game_status()\n",
    "\n",
    "        while game_status == 'not_over':\n",
    "            previouse_envstate = envstate\n",
    "    #        Randomly choose action (left, right, up, down) by exploration\n",
    "            if np.random.rand() < epsilon:\n",
    "                action = random.choice(qmaze.valid_actions())\n",
    "            else:\n",
    "                action = np.argmax(experience.predict(envstate))\n",
    "\n",
    "    #        Track state and total reward based on action\n",
    "            envstate, reward, game_status = qmaze.act(action)\n",
    "    #        Set episode\n",
    "            episode = [previouse_envstate, action, reward, envstate, game_status]\n",
    "    #        Store episode in Experience replay object\n",
    "            experience.remember(episode)\n",
    "            n_episodes += 1\n",
    "\n",
    "    #        Train neural network model and evaluate loss\n",
    "            inputs, targets = experience.get_data(data_size)\n",
    "            history = model.fit(inputs, targets, epochs=1, verbose=0)\n",
    "            loss = history.history['loss'][0]\n",
    "\n",
    "    #    If the win rate is above the threshold and model passes the completion check, that would be an epoch.\n",
    "        win = (game_status == 'win')\n",
    "        win_history.append(int(win))\n",
    "        win_rate = sum(win_history) / len(win_history)\n",
    "\n",
    "    #Print the epoch, loss, episodes, win count, and win rate for each epoch\n",
    "        dt = datetime.datetime.now() - start_time\n",
    "        t = format_time(dt.total_seconds())\n",
    "        template = \"Epoch: {:03d}/{:d} | Loss: {:.4f} | Episodes: {:d} | Win count: {:d} | Win rate: {:.3f} | time: {}\"\n",
    "        print(template.format(epoch, n_epoch-1, loss, n_episodes, sum(win_history), win_rate, t))\n",
    "        # We simply check if training has exhausted all free cells and if in all\n",
    "        # cases the agent won.\n",
    "        if win_rate > 0.9 : epsilon = 0.05\n",
    "        if sum(win_history[-hsize:]) == hsize and completion_check(model, qmaze):\n",
    "            print(\"Reached 100%% win rate at epoch: %d\" % (epoch,))\n",
    "            break\n",
    "    \n",
    "    \n",
    "    # Determine the total time for training\n",
    "    dt = datetime.datetime.now() - start_time\n",
    "    seconds = dt.total_seconds()\n",
    "    t = format_time(seconds)\n",
    "\n",
    "    print(\"n_epoch: %d, max_mem: %d, data: %d, time: %s\" % (epoch, max_memory, data_size, t))\n",
    "    return seconds\n",
    "\n",
    "# This is a small utility for printing readable time strings:\n",
    "def format_time(seconds):\n",
    "    if seconds < 400:\n",
    "        s = float(seconds)\n",
    "        return \"%.1f seconds\" % (s,)\n",
    "    elif seconds < 4000:\n",
    "        m = seconds / 60.0\n",
    "        return \"%.2f minutes\" % (m,)\n",
    "    else:\n",
    "        h = seconds / 3600.0\n",
    "        return \"%.2f hours\" % (h,)"
   ]
  },
  {
   "cell_type": "markdown",
   "metadata": {},
   "source": [
    "## Test Your Model\n",
    "\n",
    "Now we will start testing the deep Q-learning implementation. To begin, select **Cell**, then **Run All** from the menu bar. This will run your notebook. As it runs, you should see output begin to appear beneath the next few cells. The code below creates an instance of TreasureMaze."
   ]
  },
  {
   "cell_type": "code",
   "execution_count": 188,
   "metadata": {},
   "outputs": [
    {
     "data": {
      "text/plain": [
       "<matplotlib.image.AxesImage at 0x2157a5406d8>"
      ]
     },
     "execution_count": 188,
     "metadata": {},
     "output_type": "execute_result"
    },
    {
     "data": {
      "image/png": "[encoded data removed]",
      "text/plain": [
       "<Figure size 432x288 with 1 Axes>"
      ]
     },
     "metadata": {
      "needs_background": "light"
     },
     "output_type": "display_data"
    }
   ],
   "source": [
    "qmaze = TreasureMaze(maze)\n",
    "show(qmaze)"
   ]
  },
  {
   "cell_type": "markdown",
   "metadata": {},
   "source": [
    "In the next code block, you will build your model and train it using deep Q-learning. Note: This step takes several minutes to fully run."
   ]
  },
  {
   "cell_type": "code",
   "execution_count": 189,
   "metadata": {},
   "outputs": [
    {
     "name": "stdout",
     "output_type": "stream",
     "text": [
      "Epoch: 000/14999 | Loss: 0.0019 | Episodes: 99 | Win count: 1 | Win rate: 1.000 | time: 2.4 seconds\n",
      "Epoch: 001/14999 | Loss: 0.0100 | Episodes: 133 | Win count: 1 | Win rate: 0.500 | time: 5.4 seconds\n",
      "Epoch: 002/14999 | Loss: 0.0006 | Episodes: 141 | Win count: 1 | Win rate: 0.333 | time: 8.2 seconds\n",
      "Epoch: 003/14999 | Loss: 0.0004 | Episodes: 140 | Win count: 1 | Win rate: 0.250 | time: 10.9 seconds\n",
      "Epoch: 004/14999 | Loss: 0.0001 | Episodes: 134 | Win count: 1 | Win rate: 0.200 | time: 13.4 seconds\n",
      "Epoch: 005/14999 | Loss: 0.0011 | Episodes: 56 | Win count: 2 | Win rate: 0.333 | time: 14.5 seconds\n",
      "Epoch: 006/14999 | Loss: 0.0008 | Episodes: 134 | Win count: 2 | Win rate: 0.286 | time: 17.0 seconds\n",
      "Epoch: 007/14999 | Loss: 0.0019 | Episodes: 24 | Win count: 3 | Win rate: 0.375 | time: 17.5 seconds\n",
      "Epoch: 008/14999 | Loss: 0.0020 | Episodes: 144 | Win count: 3 | Win rate: 0.333 | time: 20.2 seconds\n",
      "Epoch: 009/14999 | Loss: 0.0010 | Episodes: 18 | Win count: 4 | Win rate: 0.400 | time: 20.5 seconds\n",
      "Epoch: 010/14999 | Loss: 0.0014 | Episodes: 135 | Win count: 4 | Win rate: 0.364 | time: 23.1 seconds\n",
      "Epoch: 011/14999 | Loss: 0.0084 | Episodes: 9 | Win count: 5 | Win rate: 0.417 | time: 23.3 seconds\n",
      "Epoch: 012/14999 | Loss: 0.0014 | Episodes: 138 | Win count: 5 | Win rate: 0.385 | time: 25.9 seconds\n",
      "Epoch: 013/14999 | Loss: 0.0010 | Episodes: 134 | Win count: 5 | Win rate: 0.357 | time: 28.5 seconds\n",
      "Epoch: 014/14999 | Loss: 0.0010 | Episodes: 35 | Win count: 6 | Win rate: 0.400 | time: 29.2 seconds\n",
      "Epoch: 015/14999 | Loss: 0.0010 | Episodes: 138 | Win count: 6 | Win rate: 0.375 | time: 31.8 seconds\n",
      "Epoch: 016/14999 | Loss: 0.0012 | Episodes: 140 | Win count: 6 | Win rate: 0.353 | time: 34.5 seconds\n",
      "Epoch: 017/14999 | Loss: 0.0007 | Episodes: 133 | Win count: 6 | Win rate: 0.333 | time: 37.0 seconds\n",
      "Epoch: 018/14999 | Loss: 0.0009 | Episodes: 96 | Win count: 7 | Win rate: 0.368 | time: 38.8 seconds\n",
      "Epoch: 019/14999 | Loss: 0.0017 | Episodes: 143 | Win count: 7 | Win rate: 0.350 | time: 41.5 seconds\n",
      "Epoch: 020/14999 | Loss: 0.0002 | Episodes: 139 | Win count: 7 | Win rate: 0.333 | time: 44.1 seconds\n",
      "Epoch: 021/14999 | Loss: 0.0031 | Episodes: 144 | Win count: 7 | Win rate: 0.318 | time: 46.8 seconds\n",
      "Epoch: 022/14999 | Loss: 0.0008 | Episodes: 141 | Win count: 7 | Win rate: 0.304 | time: 49.5 seconds\n",
      "Epoch: 023/14999 | Loss: 0.0007 | Episodes: 142 | Win count: 7 | Win rate: 0.292 | time: 52.2 seconds\n",
      "Epoch: 024/14999 | Loss: 0.0014 | Episodes: 22 | Win count: 8 | Win rate: 0.320 | time: 52.6 seconds\n",
      "Epoch: 025/14999 | Loss: 0.0008 | Episodes: 37 | Win count: 9 | Win rate: 0.346 | time: 53.3 seconds\n",
      "Epoch: 026/14999 | Loss: 0.0121 | Episodes: 139 | Win count: 9 | Win rate: 0.333 | time: 55.9 seconds\n",
      "Epoch: 027/14999 | Loss: 0.0010 | Episodes: 141 | Win count: 9 | Win rate: 0.321 | time: 58.5 seconds\n",
      "Epoch: 028/14999 | Loss: 0.0014 | Episodes: 39 | Win count: 10 | Win rate: 0.345 | time: 59.3 seconds\n",
      "Epoch: 029/14999 | Loss: 0.0012 | Episodes: 7 | Win count: 11 | Win rate: 0.367 | time: 59.4 seconds\n",
      "Epoch: 030/14999 | Loss: 0.0009 | Episodes: 4 | Win count: 12 | Win rate: 0.387 | time: 59.5 seconds\n",
      "Epoch: 031/14999 | Loss: 0.0010 | Episodes: 14 | Win count: 13 | Win rate: 0.406 | time: 59.7 seconds\n",
      "Epoch: 032/14999 | Loss: 0.0010 | Episodes: 1 | Win count: 14 | Win rate: 0.424 | time: 59.8 seconds\n",
      "Epoch: 033/14999 | Loss: 0.0057 | Episodes: 141 | Win count: 14 | Win rate: 0.412 | time: 62.4 seconds\n",
      "Epoch: 034/14999 | Loss: 0.0096 | Episodes: 137 | Win count: 14 | Win rate: 0.400 | time: 65.0 seconds\n",
      "Epoch: 035/14999 | Loss: 0.0009 | Episodes: 6 | Win count: 15 | Win rate: 0.417 | time: 65.1 seconds\n",
      "Epoch: 036/14999 | Loss: 0.0017 | Episodes: 31 | Win count: 16 | Win rate: 0.432 | time: 65.7 seconds\n",
      "Epoch: 037/14999 | Loss: 0.0013 | Episodes: 13 | Win count: 17 | Win rate: 0.447 | time: 65.9 seconds\n",
      "Epoch: 038/14999 | Loss: 0.0015 | Episodes: 142 | Win count: 17 | Win rate: 0.436 | time: 68.6 seconds\n",
      "Epoch: 039/14999 | Loss: 0.0009 | Episodes: 141 | Win count: 17 | Win rate: 0.425 | time: 71.2 seconds\n",
      "Epoch: 040/14999 | Loss: 0.0016 | Episodes: 40 | Win count: 18 | Win rate: 0.439 | time: 72.0 seconds\n",
      "Epoch: 041/14999 | Loss: 0.0009 | Episodes: 141 | Win count: 18 | Win rate: 0.429 | time: 74.6 seconds\n",
      "Epoch: 042/14999 | Loss: 0.0010 | Episodes: 136 | Win count: 18 | Win rate: 0.419 | time: 77.2 seconds\n",
      "Epoch: 043/14999 | Loss: 0.0012 | Episodes: 133 | Win count: 18 | Win rate: 0.409 | time: 79.7 seconds\n",
      "Epoch: 044/14999 | Loss: 0.0006 | Episodes: 38 | Win count: 19 | Win rate: 0.422 | time: 80.4 seconds\n",
      "Epoch: 045/14999 | Loss: 0.0010 | Episodes: 26 | Win count: 20 | Win rate: 0.435 | time: 80.9 seconds\n",
      "Epoch: 046/14999 | Loss: 0.0010 | Episodes: 139 | Win count: 20 | Win rate: 0.426 | time: 83.5 seconds\n",
      "Epoch: 047/14999 | Loss: 0.0012 | Episodes: 147 | Win count: 20 | Win rate: 0.417 | time: 86.2 seconds\n",
      "Epoch: 048/14999 | Loss: 0.0013 | Episodes: 29 | Win count: 21 | Win rate: 0.429 | time: 86.8 seconds\n",
      "Epoch: 049/14999 | Loss: 0.0015 | Episodes: 144 | Win count: 21 | Win rate: 0.420 | time: 89.5 seconds\n",
      "Epoch: 050/14999 | Loss: 0.0019 | Episodes: 28 | Win count: 22 | Win rate: 0.431 | time: 90.0 seconds\n",
      "Epoch: 051/14999 | Loss: 0.0009 | Episodes: 140 | Win count: 22 | Win rate: 0.423 | time: 92.6 seconds\n",
      "Epoch: 052/14999 | Loss: 0.0015 | Episodes: 139 | Win count: 22 | Win rate: 0.415 | time: 95.2 seconds\n",
      "Epoch: 053/14999 | Loss: 0.0010 | Episodes: 6 | Win count: 23 | Win rate: 0.426 | time: 95.3 seconds\n",
      "Epoch: 054/14999 | Loss: 0.0010 | Episodes: 140 | Win count: 23 | Win rate: 0.418 | time: 97.9 seconds\n",
      "Epoch: 055/14999 | Loss: 0.0004 | Episodes: 2 | Win count: 24 | Win rate: 0.429 | time: 98.0 seconds\n",
      "Epoch: 056/14999 | Loss: 0.0018 | Episodes: 142 | Win count: 25 | Win rate: 0.439 | time: 100.6 seconds\n",
      "Epoch: 057/14999 | Loss: 0.0008 | Episodes: 139 | Win count: 25 | Win rate: 0.431 | time: 103.2 seconds\n",
      "Epoch: 058/14999 | Loss: 0.0008 | Episodes: 13 | Win count: 26 | Win rate: 0.441 | time: 103.4 seconds\n",
      "Epoch: 059/14999 | Loss: 0.0010 | Episodes: 149 | Win count: 26 | Win rate: 0.433 | time: 106.2 seconds\n",
      "Epoch: 060/14999 | Loss: 0.0012 | Episodes: 1 | Win count: 27 | Win rate: 0.443 | time: 106.3 seconds\n",
      "Epoch: 061/14999 | Loss: 0.0018 | Episodes: 23 | Win count: 28 | Win rate: 0.452 | time: 106.7 seconds\n",
      "Epoch: 062/14999 | Loss: 0.0008 | Episodes: 140 | Win count: 28 | Win rate: 0.444 | time: 109.3 seconds\n",
      "Epoch: 063/14999 | Loss: 0.0013 | Episodes: 1 | Win count: 29 | Win rate: 0.453 | time: 109.3 seconds\n",
      "Epoch: 064/14999 | Loss: 0.0010 | Episodes: 23 | Win count: 30 | Win rate: 0.462 | time: 109.8 seconds\n",
      "Epoch: 065/14999 | Loss: 0.0006 | Episodes: 144 | Win count: 30 | Win rate: 0.455 | time: 112.5 seconds\n",
      "Epoch: 066/14999 | Loss: 0.0017 | Episodes: 149 | Win count: 30 | Win rate: 0.448 | time: 115.3 seconds\n",
      "Epoch: 067/14999 | Loss: 0.0009 | Episodes: 13 | Win count: 31 | Win rate: 0.456 | time: 115.6 seconds\n",
      "Epoch: 068/14999 | Loss: 0.0005 | Episodes: 2 | Win count: 32 | Win rate: 0.464 | time: 115.6 seconds\n",
      "Epoch: 069/14999 | Loss: 0.0009 | Episodes: 144 | Win count: 32 | Win rate: 0.457 | time: 118.3 seconds\n",
      "Epoch: 070/14999 | Loss: 0.0010 | Episodes: 23 | Win count: 33 | Win rate: 0.465 | time: 118.7 seconds\n",
      "Epoch: 071/14999 | Loss: 0.0013 | Episodes: 2 | Win count: 34 | Win rate: 0.472 | time: 118.8 seconds\n",
      "Epoch: 072/14999 | Loss: 0.0013 | Episodes: 15 | Win count: 35 | Win rate: 0.479 | time: 119.1 seconds\n",
      "Epoch: 073/14999 | Loss: 0.0016 | Episodes: 145 | Win count: 36 | Win rate: 0.486 | time: 121.9 seconds\n",
      "Epoch: 074/14999 | Loss: 0.0014 | Episodes: 150 | Win count: 36 | Win rate: 0.480 | time: 124.7 seconds\n",
      "Epoch: 075/14999 | Loss: 0.0015 | Episodes: 147 | Win count: 37 | Win rate: 0.487 | time: 127.5 seconds\n",
      "Epoch: 076/14999 | Loss: 0.0022 | Episodes: 72 | Win count: 38 | Win rate: 0.494 | time: 128.9 seconds\n",
      "Epoch: 077/14999 | Loss: 0.0022 | Episodes: 142 | Win count: 38 | Win rate: 0.487 | time: 131.5 seconds\n",
      "Epoch: 078/14999 | Loss: 0.0012 | Episodes: 56 | Win count: 39 | Win rate: 0.494 | time: 132.6 seconds\n",
      "Epoch: 079/14999 | Loss: 0.0018 | Episodes: 49 | Win count: 40 | Win rate: 0.500 | time: 133.5 seconds\n",
      "Epoch: 080/14999 | Loss: 0.0015 | Episodes: 112 | Win count: 41 | Win rate: 0.506 | time: 135.6 seconds\n",
      "Epoch: 081/14999 | Loss: 0.0017 | Episodes: 143 | Win count: 41 | Win rate: 0.500 | time: 138.3 seconds\n",
      "Epoch: 082/14999 | Loss: 0.0010 | Episodes: 18 | Win count: 42 | Win rate: 0.506 | time: 138.6 seconds\n",
      "Epoch: 083/14999 | Loss: 0.0013 | Episodes: 6 | Win count: 43 | Win rate: 0.512 | time: 138.8 seconds\n",
      "Epoch: 084/14999 | Loss: 0.0008 | Episodes: 1 | Win count: 44 | Win rate: 0.518 | time: 138.8 seconds\n",
      "Epoch: 085/14999 | Loss: 0.0010 | Episodes: 12 | Win count: 45 | Win rate: 0.523 | time: 139.0 seconds\n",
      "Epoch: 086/14999 | Loss: 0.0017 | Episodes: 28 | Win count: 46 | Win rate: 0.529 | time: 139.5 seconds\n",
      "Epoch: 087/14999 | Loss: 0.0019 | Episodes: 3 | Win count: 47 | Win rate: 0.534 | time: 139.6 seconds\n",
      "Epoch: 088/14999 | Loss: 0.0011 | Episodes: 39 | Win count: 48 | Win rate: 0.539 | time: 140.3 seconds\n",
      "Epoch: 089/14999 | Loss: 0.0015 | Episodes: 21 | Win count: 49 | Win rate: 0.544 | time: 140.7 seconds\n",
      "Epoch: 090/14999 | Loss: 0.0014 | Episodes: 26 | Win count: 50 | Win rate: 0.549 | time: 141.2 seconds\n",
      "Epoch: 091/14999 | Loss: 0.0017 | Episodes: 12 | Win count: 51 | Win rate: 0.554 | time: 141.4 seconds\n",
      "Epoch: 092/14999 | Loss: 0.0014 | Episodes: 26 | Win count: 52 | Win rate: 0.559 | time: 141.9 seconds\n",
      "Epoch: 093/14999 | Loss: 0.0008 | Episodes: 19 | Win count: 53 | Win rate: 0.564 | time: 142.3 seconds\n",
      "Epoch: 094/14999 | Loss: 0.0014 | Episodes: 27 | Win count: 54 | Win rate: 0.568 | time: 142.8 seconds\n",
      "Epoch: 095/14999 | Loss: 0.0013 | Episodes: 7 | Win count: 55 | Win rate: 0.573 | time: 142.9 seconds\n",
      "Epoch: 096/14999 | Loss: 0.0019 | Episodes: 9 | Win count: 56 | Win rate: 0.577 | time: 143.1 seconds\n",
      "Epoch: 097/14999 | Loss: 0.0005 | Episodes: 25 | Win count: 57 | Win rate: 0.582 | time: 143.6 seconds\n",
      "Epoch: 098/14999 | Loss: 0.0023 | Episodes: 1 | Win count: 58 | Win rate: 0.586 | time: 143.6 seconds\n",
      "Epoch: 099/14999 | Loss: 0.0005 | Episodes: 137 | Win count: 58 | Win rate: 0.580 | time: 146.2 seconds\n",
      "Epoch: 100/14999 | Loss: 0.0015 | Episodes: 55 | Win count: 59 | Win rate: 0.584 | time: 147.2 seconds\n",
      "Epoch: 101/14999 | Loss: 0.0008 | Episodes: 18 | Win count: 60 | Win rate: 0.588 | time: 147.6 seconds\n",
      "Epoch: 102/14999 | Loss: 0.0009 | Episodes: 21 | Win count: 61 | Win rate: 0.592 | time: 148.0 seconds\n",
      "Epoch: 103/14999 | Loss: 0.0010 | Episodes: 14 | Win count: 62 | Win rate: 0.596 | time: 148.2 seconds\n",
      "Epoch: 104/14999 | Loss: 0.0006 | Episodes: 1 | Win count: 63 | Win rate: 0.600 | time: 148.3 seconds\n",
      "Epoch: 105/14999 | Loss: 0.0005 | Episodes: 135 | Win count: 63 | Win rate: 0.594 | time: 150.8 seconds\n",
      "Epoch: 106/14999 | Loss: 0.0005 | Episodes: 24 | Win count: 64 | Win rate: 0.598 | time: 151.3 seconds\n",
      "Epoch: 107/14999 | Loss: 0.0006 | Episodes: 70 | Win count: 65 | Win rate: 0.602 | time: 152.6 seconds\n",
      "Epoch: 108/14999 | Loss: 0.0012 | Episodes: 29 | Win count: 66 | Win rate: 0.606 | time: 153.2 seconds\n",
      "Epoch: 109/14999 | Loss: 0.0008 | Episodes: 66 | Win count: 67 | Win rate: 0.609 | time: 154.4 seconds\n",
      "Epoch: 110/14999 | Loss: 0.0003 | Episodes: 32 | Win count: 68 | Win rate: 0.613 | time: 155.0 seconds\n",
      "Epoch: 111/14999 | Loss: 0.0007 | Episodes: 62 | Win count: 69 | Win rate: 0.616 | time: 156.2 seconds\n",
      "Epoch: 112/14999 | Loss: 0.0015 | Episodes: 61 | Win count: 70 | Win rate: 0.619 | time: 157.4 seconds\n",
      "Epoch: 113/14999 | Loss: 0.0016 | Episodes: 43 | Win count: 71 | Win rate: 0.623 | time: 158.2 seconds\n",
      "Epoch: 114/14999 | Loss: 0.0020 | Episodes: 48 | Win count: 72 | Win rate: 0.626 | time: 159.1 seconds\n",
      "Epoch: 115/14999 | Loss: 0.0013 | Episodes: 34 | Win count: 73 | Win rate: 0.629 | time: 159.7 seconds\n",
      "Epoch: 116/14999 | Loss: 0.0017 | Episodes: 23 | Win count: 74 | Win rate: 0.632 | time: 160.2 seconds\n",
      "Epoch: 117/14999 | Loss: 0.0009 | Episodes: 29 | Win count: 75 | Win rate: 0.636 | time: 160.7 seconds\n",
      "Epoch: 118/14999 | Loss: 0.0016 | Episodes: 41 | Win count: 76 | Win rate: 0.639 | time: 161.5 seconds\n",
      "Epoch: 119/14999 | Loss: 0.0011 | Episodes: 55 | Win count: 77 | Win rate: 0.642 | time: 162.5 seconds\n",
      "Epoch: 120/14999 | Loss: 0.0007 | Episodes: 31 | Win count: 78 | Win rate: 0.645 | time: 163.1 seconds\n",
      "Epoch: 121/14999 | Loss: 0.0012 | Episodes: 34 | Win count: 79 | Win rate: 0.648 | time: 163.7 seconds\n",
      "Epoch: 122/14999 | Loss: 0.0012 | Episodes: 30 | Win count: 80 | Win rate: 0.650 | time: 164.3 seconds\n",
      "Epoch: 123/14999 | Loss: 0.0012 | Episodes: 8 | Win count: 81 | Win rate: 0.653 | time: 164.5 seconds\n",
      "Epoch: 124/14999 | Loss: 0.0009 | Episodes: 61 | Win count: 82 | Win rate: 0.656 | time: 165.6 seconds\n",
      "Epoch: 125/14999 | Loss: 0.0008 | Episodes: 11 | Win count: 83 | Win rate: 0.659 | time: 165.8 seconds\n",
      "Epoch: 126/14999 | Loss: 0.0017 | Episodes: 9 | Win count: 84 | Win rate: 0.661 | time: 166.0 seconds\n",
      "Epoch: 127/14999 | Loss: 0.0009 | Episodes: 3 | Win count: 85 | Win rate: 0.664 | time: 166.0 seconds\n",
      "Epoch: 128/14999 | Loss: 0.0012 | Episodes: 8 | Win count: 86 | Win rate: 0.667 | time: 166.2 seconds\n",
      "Epoch: 129/14999 | Loss: 0.0013 | Episodes: 8 | Win count: 87 | Win rate: 0.669 | time: 166.3 seconds\n",
      "Epoch: 130/14999 | Loss: 0.0013 | Episodes: 1 | Win count: 88 | Win rate: 0.672 | time: 166.4 seconds\n",
      "Epoch: 131/14999 | Loss: 0.0004 | Episodes: 135 | Win count: 88 | Win rate: 0.667 | time: 168.9 seconds\n",
      "Epoch: 132/14999 | Loss: 0.0008 | Episodes: 4 | Win count: 89 | Win rate: 0.669 | time: 169.0 seconds\n",
      "Epoch: 133/14999 | Loss: 0.0008 | Episodes: 73 | Win count: 90 | Win rate: 0.672 | time: 170.4 seconds\n",
      "Epoch: 134/14999 | Loss: 0.0006 | Episodes: 13 | Win count: 91 | Win rate: 0.674 | time: 170.6 seconds\n",
      "Epoch: 135/14999 | Loss: 0.0006 | Episodes: 20 | Win count: 92 | Win rate: 0.676 | time: 171.0 seconds\n",
      "Epoch: 136/14999 | Loss: 0.0010 | Episodes: 16 | Win count: 93 | Win rate: 0.679 | time: 171.3 seconds\n",
      "Epoch: 137/14999 | Loss: 0.0010 | Episodes: 29 | Win count: 94 | Win rate: 0.681 | time: 171.8 seconds\n",
      "Epoch: 138/14999 | Loss: 0.0009 | Episodes: 10 | Win count: 95 | Win rate: 0.683 | time: 172.0 seconds\n",
      "Epoch: 139/14999 | Loss: 0.0010 | Episodes: 16 | Win count: 96 | Win rate: 0.686 | time: 172.3 seconds\n",
      "Epoch: 140/14999 | Loss: 0.0003 | Episodes: 7 | Win count: 97 | Win rate: 0.688 | time: 172.5 seconds\n",
      "Epoch: 141/14999 | Loss: 0.0008 | Episodes: 8 | Win count: 98 | Win rate: 0.690 | time: 172.6 seconds\n",
      "Epoch: 142/14999 | Loss: 0.0003 | Episodes: 84 | Win count: 99 | Win rate: 0.692 | time: 174.2 seconds\n",
      "Epoch: 143/14999 | Loss: 0.0008 | Episodes: 8 | Win count: 100 | Win rate: 0.694 | time: 174.4 seconds\n",
      "Epoch: 144/14999 | Loss: 0.0007 | Episodes: 30 | Win count: 101 | Win rate: 0.697 | time: 174.9 seconds\n",
      "Epoch: 145/14999 | Loss: 0.0003 | Episodes: 77 | Win count: 102 | Win rate: 0.699 | time: 176.4 seconds\n",
      "Epoch: 146/14999 | Loss: 0.0008 | Episodes: 11 | Win count: 103 | Win rate: 0.701 | time: 176.6 seconds\n",
      "Epoch: 147/14999 | Loss: 0.0005 | Episodes: 31 | Win count: 104 | Win rate: 0.703 | time: 177.2 seconds\n",
      "Epoch: 148/14999 | Loss: 0.0004 | Episodes: 27 | Win count: 105 | Win rate: 0.705 | time: 177.7 seconds\n",
      "Epoch: 149/14999 | Loss: 0.0009 | Episodes: 7 | Win count: 106 | Win rate: 0.707 | time: 177.8 seconds\n",
      "Epoch: 150/14999 | Loss: 0.0002 | Episodes: 13 | Win count: 107 | Win rate: 0.709 | time: 178.1 seconds\n",
      "Epoch: 151/14999 | Loss: 0.0011 | Episodes: 20 | Win count: 108 | Win rate: 0.711 | time: 178.4 seconds\n",
      "Epoch: 152/14999 | Loss: 0.0002 | Episodes: 39 | Win count: 109 | Win rate: 0.712 | time: 179.2 seconds\n",
      "Epoch: 153/14999 | Loss: 0.0003 | Episodes: 17 | Win count: 110 | Win rate: 0.714 | time: 179.5 seconds\n",
      "Epoch: 154/14999 | Loss: 0.0002 | Episodes: 36 | Win count: 111 | Win rate: 0.716 | time: 180.2 seconds\n",
      "Epoch: 155/14999 | Loss: 0.0004 | Episodes: 31 | Win count: 112 | Win rate: 0.718 | time: 180.8 seconds\n",
      "Epoch: 156/14999 | Loss: 0.0006 | Episodes: 31 | Win count: 113 | Win rate: 0.720 | time: 181.4 seconds\n",
      "Epoch: 157/14999 | Loss: 0.0002 | Episodes: 21 | Win count: 114 | Win rate: 0.722 | time: 181.8 seconds\n",
      "Epoch: 158/14999 | Loss: 0.0005 | Episodes: 28 | Win count: 115 | Win rate: 0.723 | time: 182.3 seconds\n",
      "Epoch: 159/14999 | Loss: 0.0010 | Episodes: 29 | Win count: 116 | Win rate: 0.725 | time: 182.8 seconds\n",
      "Epoch: 160/14999 | Loss: 0.0007 | Episodes: 61 | Win count: 117 | Win rate: 0.727 | time: 184.0 seconds\n",
      "Epoch: 161/14999 | Loss: 0.0009 | Episodes: 17 | Win count: 118 | Win rate: 0.728 | time: 184.3 seconds\n",
      "Epoch: 162/14999 | Loss: 0.0006 | Episodes: 1 | Win count: 119 | Win rate: 0.730 | time: 184.4 seconds\n",
      "Epoch: 163/14999 | Loss: 0.0006 | Episodes: 32 | Win count: 120 | Win rate: 0.732 | time: 184.9 seconds\n",
      "Epoch: 164/14999 | Loss: 0.0011 | Episodes: 2 | Win count: 121 | Win rate: 0.733 | time: 185.0 seconds\n",
      "Epoch: 165/14999 | Loss: 0.0008 | Episodes: 8 | Win count: 122 | Win rate: 0.735 | time: 185.2 seconds\n",
      "Epoch: 166/14999 | Loss: 0.0013 | Episodes: 23 | Win count: 123 | Win rate: 0.737 | time: 185.7 seconds\n",
      "Epoch: 167/14999 | Loss: 0.0012 | Episodes: 21 | Win count: 124 | Win rate: 0.738 | time: 186.1 seconds\n",
      "Epoch: 168/14999 | Loss: 0.0008 | Episodes: 4 | Win count: 125 | Win rate: 0.740 | time: 186.3 seconds\n",
      "Epoch: 169/14999 | Loss: 0.0011 | Episodes: 6 | Win count: 126 | Win rate: 0.741 | time: 186.6 seconds\n",
      "Epoch: 170/14999 | Loss: 0.0008 | Episodes: 26 | Win count: 127 | Win rate: 0.743 | time: 187.1 seconds\n",
      "Epoch: 171/14999 | Loss: 0.0008 | Episodes: 31 | Win count: 128 | Win rate: 0.744 | time: 187.7 seconds\n",
      "Epoch: 172/14999 | Loss: 0.0012 | Episodes: 2 | Win count: 129 | Win rate: 0.746 | time: 187.8 seconds\n",
      "Epoch: 173/14999 | Loss: 0.0008 | Episodes: 27 | Win count: 130 | Win rate: 0.747 | time: 188.4 seconds\n",
      "Epoch: 174/14999 | Loss: 0.0014 | Episodes: 23 | Win count: 131 | Win rate: 0.749 | time: 188.8 seconds\n",
      "Epoch: 175/14999 | Loss: 0.0008 | Episodes: 26 | Win count: 132 | Win rate: 0.750 | time: 189.4 seconds\n",
      "Epoch: 176/14999 | Loss: 0.0005 | Episodes: 25 | Win count: 133 | Win rate: 0.751 | time: 189.9 seconds\n",
      "Epoch: 177/14999 | Loss: 0.0005 | Episodes: 32 | Win count: 134 | Win rate: 0.753 | time: 190.5 seconds\n",
      "Epoch: 178/14999 | Loss: 0.0006 | Episodes: 38 | Win count: 135 | Win rate: 0.754 | time: 191.3 seconds\n",
      "Epoch: 179/14999 | Loss: 0.0007 | Episodes: 28 | Win count: 136 | Win rate: 0.756 | time: 191.8 seconds\n",
      "Epoch: 180/14999 | Loss: 0.0007 | Episodes: 5 | Win count: 137 | Win rate: 0.757 | time: 192.0 seconds\n",
      "Epoch: 181/14999 | Loss: 0.0006 | Episodes: 35 | Win count: 138 | Win rate: 0.758 | time: 192.7 seconds\n",
      "Epoch: 182/14999 | Loss: 0.0007 | Episodes: 33 | Win count: 139 | Win rate: 0.760 | time: 193.3 seconds\n",
      "Epoch: 183/14999 | Loss: 0.0006 | Episodes: 20 | Win count: 140 | Win rate: 0.761 | time: 193.7 seconds\n",
      "Epoch: 184/14999 | Loss: 0.0003 | Episodes: 31 | Win count: 141 | Win rate: 0.762 | time: 194.4 seconds\n",
      "Epoch: 185/14999 | Loss: 0.0003 | Episodes: 21 | Win count: 142 | Win rate: 0.763 | time: 194.8 seconds\n",
      "Epoch: 186/14999 | Loss: 0.0003 | Episodes: 21 | Win count: 143 | Win rate: 0.765 | time: 195.2 seconds\n",
      "Epoch: 187/14999 | Loss: 0.0006 | Episodes: 22 | Win count: 144 | Win rate: 0.766 | time: 195.7 seconds\n",
      "Epoch: 188/14999 | Loss: 0.0004 | Episodes: 129 | Win count: 144 | Win rate: 0.762 | time: 198.7 seconds\n",
      "Epoch: 189/14999 | Loss: 0.0002 | Episodes: 14 | Win count: 145 | Win rate: 0.763 | time: 199.0 seconds\n",
      "Epoch: 190/14999 | Loss: 0.0001 | Episodes: 21 | Win count: 146 | Win rate: 0.764 | time: 199.4 seconds\n",
      "Epoch: 191/14999 | Loss: 0.0003 | Episodes: 6 | Win count: 147 | Win rate: 0.766 | time: 199.5 seconds\n",
      "Epoch: 192/14999 | Loss: 0.0004 | Episodes: 19 | Win count: 148 | Win rate: 0.767 | time: 199.9 seconds\n",
      "Epoch: 193/14999 | Loss: 0.0001 | Episodes: 24 | Win count: 149 | Win rate: 0.768 | time: 200.3 seconds\n",
      "Epoch: 194/14999 | Loss: 0.0006 | Episodes: 66 | Win count: 150 | Win rate: 0.769 | time: 201.7 seconds\n",
      "Epoch: 195/14999 | Loss: 0.0003 | Episodes: 9 | Win count: 151 | Win rate: 0.770 | time: 201.9 seconds\n",
      "Epoch: 196/14999 | Loss: 0.0006 | Episodes: 44 | Win count: 152 | Win rate: 0.772 | time: 202.7 seconds\n",
      "Epoch: 197/14999 | Loss: 0.0001 | Episodes: 11 | Win count: 153 | Win rate: 0.773 | time: 202.9 seconds\n",
      "Epoch: 198/14999 | Loss: 0.0002 | Episodes: 1 | Win count: 154 | Win rate: 0.774 | time: 202.9 seconds\n",
      "Epoch: 199/14999 | Loss: 0.0004 | Episodes: 26 | Win count: 155 | Win rate: 0.775 | time: 203.6 seconds\n",
      "Epoch: 200/14999 | Loss: 0.0014 | Episodes: 26 | Win count: 156 | Win rate: 0.776 | time: 204.3 seconds\n",
      "Epoch: 201/14999 | Loss: 0.0004 | Episodes: 8 | Win count: 157 | Win rate: 0.777 | time: 204.4 seconds\n",
      "Epoch: 202/14999 | Loss: 0.0005 | Episodes: 6 | Win count: 158 | Win rate: 0.778 | time: 204.6 seconds\n",
      "Epoch: 203/14999 | Loss: 0.0003 | Episodes: 7 | Win count: 159 | Win rate: 0.779 | time: 204.7 seconds\n",
      "Epoch: 204/14999 | Loss: 0.0006 | Episodes: 11 | Win count: 160 | Win rate: 0.780 | time: 204.9 seconds\n",
      "Epoch: 205/14999 | Loss: 0.0012 | Episodes: 32 | Win count: 161 | Win rate: 0.782 | time: 205.6 seconds\n",
      "Epoch: 206/14999 | Loss: 0.0002 | Episodes: 19 | Win count: 162 | Win rate: 0.783 | time: 206.0 seconds\n",
      "Epoch: 207/14999 | Loss: 0.0001 | Episodes: 4 | Win count: 163 | Win rate: 0.784 | time: 206.0 seconds\n",
      "Epoch: 208/14999 | Loss: 0.0004 | Episodes: 18 | Win count: 164 | Win rate: 0.785 | time: 206.4 seconds\n",
      "Epoch: 209/14999 | Loss: 0.0003 | Episodes: 19 | Win count: 165 | Win rate: 0.786 | time: 206.8 seconds\n",
      "Epoch: 210/14999 | Loss: 0.0003 | Episodes: 21 | Win count: 166 | Win rate: 0.787 | time: 207.2 seconds\n",
      "Epoch: 211/14999 | Loss: 0.0003 | Episodes: 1 | Win count: 167 | Win rate: 0.788 | time: 207.2 seconds\n",
      "Epoch: 212/14999 | Loss: 0.0002 | Episodes: 28 | Win count: 168 | Win rate: 0.789 | time: 207.8 seconds\n",
      "Epoch: 213/14999 | Loss: 0.0009 | Episodes: 16 | Win count: 169 | Win rate: 0.790 | time: 208.1 seconds\n",
      "Epoch: 214/14999 | Loss: 0.0001 | Episodes: 25 | Win count: 170 | Win rate: 0.791 | time: 208.6 seconds\n",
      "Epoch: 215/14999 | Loss: 0.0008 | Episodes: 28 | Win count: 171 | Win rate: 0.792 | time: 209.1 seconds\n",
      "Epoch: 216/14999 | Loss: 0.0010 | Episodes: 21 | Win count: 172 | Win rate: 0.793 | time: 209.5 seconds\n",
      "Epoch: 217/14999 | Loss: 0.0001 | Episodes: 2 | Win count: 173 | Win rate: 0.794 | time: 209.6 seconds\n",
      "Epoch: 218/14999 | Loss: 0.0003 | Episodes: 7 | Win count: 174 | Win rate: 0.795 | time: 209.8 seconds\n",
      "Epoch: 219/14999 | Loss: 0.0008 | Episodes: 29 | Win count: 175 | Win rate: 0.795 | time: 210.4 seconds\n",
      "Epoch: 220/14999 | Loss: 0.0008 | Episodes: 40 | Win count: 176 | Win rate: 0.796 | time: 211.2 seconds\n",
      "Epoch: 221/14999 | Loss: 0.0011 | Episodes: 61 | Win count: 177 | Win rate: 0.797 | time: 212.4 seconds\n",
      "Epoch: 222/14999 | Loss: 0.0007 | Episodes: 32 | Win count: 178 | Win rate: 0.798 | time: 213.1 seconds\n",
      "Epoch: 223/14999 | Loss: 0.0003 | Episodes: 11 | Win count: 179 | Win rate: 0.799 | time: 213.4 seconds\n",
      "Epoch: 224/14999 | Loss: 0.0006 | Episodes: 4 | Win count: 180 | Win rate: 0.800 | time: 213.6 seconds\n",
      "Epoch: 225/14999 | Loss: 0.0006 | Episodes: 11 | Win count: 181 | Win rate: 0.801 | time: 213.9 seconds\n",
      "Epoch: 226/14999 | Loss: 0.0011 | Episodes: 18 | Win count: 182 | Win rate: 0.802 | time: 214.3 seconds\n",
      "Epoch: 227/14999 | Loss: 0.0008 | Episodes: 21 | Win count: 183 | Win rate: 0.803 | time: 214.7 seconds\n",
      "Epoch: 228/14999 | Loss: 0.0003 | Episodes: 27 | Win count: 184 | Win rate: 0.803 | time: 215.3 seconds\n",
      "Epoch: 229/14999 | Loss: 0.0007 | Episodes: 3 | Win count: 185 | Win rate: 0.804 | time: 215.4 seconds\n",
      "Epoch: 230/14999 | Loss: 0.0003 | Episodes: 12 | Win count: 186 | Win rate: 0.805 | time: 215.6 seconds\n",
      "Epoch: 231/14999 | Loss: 0.0008 | Episodes: 33 | Win count: 187 | Win rate: 0.806 | time: 216.3 seconds\n",
      "Epoch: 232/14999 | Loss: 0.0010 | Episodes: 35 | Win count: 188 | Win rate: 0.807 | time: 217.0 seconds\n",
      "Epoch: 233/14999 | Loss: 0.0005 | Episodes: 33 | Win count: 189 | Win rate: 0.808 | time: 217.7 seconds\n",
      "Epoch: 234/14999 | Loss: 0.0012 | Episodes: 48 | Win count: 190 | Win rate: 0.809 | time: 218.6 seconds\n",
      "Epoch: 235/14999 | Loss: 0.0008 | Episodes: 17 | Win count: 191 | Win rate: 0.809 | time: 219.0 seconds\n",
      "Epoch: 236/14999 | Loss: 0.0010 | Episodes: 9 | Win count: 192 | Win rate: 0.810 | time: 219.2 seconds\n",
      "Epoch: 237/14999 | Loss: 0.0004 | Episodes: 25 | Win count: 193 | Win rate: 0.811 | time: 219.7 seconds\n",
      "Epoch: 238/14999 | Loss: 0.0009 | Episodes: 23 | Win count: 194 | Win rate: 0.812 | time: 220.2 seconds\n",
      "Epoch: 239/14999 | Loss: 0.0009 | Episodes: 65 | Win count: 195 | Win rate: 0.812 | time: 221.5 seconds\n",
      "Epoch: 240/14999 | Loss: 0.0004 | Episodes: 13 | Win count: 196 | Win rate: 0.813 | time: 221.8 seconds\n",
      "Epoch: 241/14999 | Loss: 0.0011 | Episodes: 18 | Win count: 197 | Win rate: 0.814 | time: 222.2 seconds\n",
      "Epoch: 242/14999 | Loss: 0.0004 | Episodes: 34 | Win count: 198 | Win rate: 0.815 | time: 222.9 seconds\n",
      "Epoch: 243/14999 | Loss: 0.0009 | Episodes: 11 | Win count: 199 | Win rate: 0.816 | time: 223.1 seconds\n",
      "Epoch: 244/14999 | Loss: 0.0002 | Episodes: 1 | Win count: 200 | Win rate: 0.816 | time: 223.2 seconds\n",
      "Epoch: 245/14999 | Loss: 0.0007 | Episodes: 31 | Win count: 201 | Win rate: 0.817 | time: 223.8 seconds\n",
      "Epoch: 246/14999 | Loss: 0.0009 | Episodes: 32 | Win count: 202 | Win rate: 0.818 | time: 224.4 seconds\n",
      "Epoch: 247/14999 | Loss: 0.0008 | Episodes: 38 | Win count: 203 | Win rate: 0.819 | time: 225.2 seconds\n",
      "Epoch: 248/14999 | Loss: 0.0002 | Episodes: 2 | Win count: 204 | Win rate: 0.819 | time: 225.3 seconds\n",
      "Epoch: 249/14999 | Loss: 0.0007 | Episodes: 24 | Win count: 205 | Win rate: 0.820 | time: 225.8 seconds\n",
      "Epoch: 250/14999 | Loss: 0.0005 | Episodes: 30 | Win count: 206 | Win rate: 0.821 | time: 226.4 seconds\n",
      "Epoch: 251/14999 | Loss: 0.0004 | Episodes: 43 | Win count: 207 | Win rate: 0.821 | time: 227.2 seconds\n",
      "Epoch: 252/14999 | Loss: 0.0002 | Episodes: 22 | Win count: 208 | Win rate: 0.822 | time: 227.7 seconds\n",
      "Epoch: 253/14999 | Loss: 0.0018 | Episodes: 13 | Win count: 209 | Win rate: 0.823 | time: 228.0 seconds\n",
      "Epoch: 254/14999 | Loss: 0.0006 | Episodes: 22 | Win count: 210 | Win rate: 0.824 | time: 228.4 seconds\n",
      "Epoch: 255/14999 | Loss: 0.0004 | Episodes: 19 | Win count: 211 | Win rate: 0.824 | time: 228.8 seconds\n",
      "Epoch: 256/14999 | Loss: 0.0002 | Episodes: 14 | Win count: 212 | Win rate: 0.825 | time: 229.1 seconds\n",
      "Epoch: 257/14999 | Loss: 0.0003 | Episodes: 33 | Win count: 213 | Win rate: 0.826 | time: 229.8 seconds\n",
      "Epoch: 258/14999 | Loss: 0.0005 | Episodes: 29 | Win count: 214 | Win rate: 0.826 | time: 230.4 seconds\n",
      "Epoch: 259/14999 | Loss: 0.0004 | Episodes: 36 | Win count: 215 | Win rate: 0.827 | time: 231.1 seconds\n",
      "Epoch: 260/14999 | Loss: 0.0013 | Episodes: 5 | Win count: 216 | Win rate: 0.828 | time: 231.3 seconds\n",
      "Epoch: 261/14999 | Loss: 0.0008 | Episodes: 24 | Win count: 217 | Win rate: 0.828 | time: 231.8 seconds\n",
      "Epoch: 262/14999 | Loss: 0.0012 | Episodes: 31 | Win count: 218 | Win rate: 0.829 | time: 232.4 seconds\n",
      "Epoch: 263/14999 | Loss: 0.0004 | Episodes: 8 | Win count: 219 | Win rate: 0.830 | time: 232.6 seconds\n",
      "Epoch: 264/14999 | Loss: 0.0002 | Episodes: 14 | Win count: 220 | Win rate: 0.830 | time: 232.9 seconds\n",
      "Epoch: 265/14999 | Loss: 0.0008 | Episodes: 8 | Win count: 221 | Win rate: 0.831 | time: 233.2 seconds\n",
      "Epoch: 266/14999 | Loss: 0.0006 | Episodes: 16 | Win count: 222 | Win rate: 0.831 | time: 233.6 seconds\n",
      "Epoch: 267/14999 | Loss: 0.0008 | Episodes: 28 | Win count: 223 | Win rate: 0.832 | time: 234.3 seconds\n",
      "Epoch: 268/14999 | Loss: 0.0005 | Episodes: 9 | Win count: 224 | Win rate: 0.833 | time: 234.5 seconds\n",
      "Epoch: 269/14999 | Loss: 0.0004 | Episodes: 10 | Win count: 225 | Win rate: 0.833 | time: 234.8 seconds\n",
      "Epoch: 270/14999 | Loss: 0.0006 | Episodes: 7 | Win count: 226 | Win rate: 0.834 | time: 235.0 seconds\n",
      "Epoch: 271/14999 | Loss: 0.0004 | Episodes: 24 | Win count: 227 | Win rate: 0.835 | time: 235.6 seconds\n",
      "Epoch: 272/14999 | Loss: 0.0005 | Episodes: 33 | Win count: 228 | Win rate: 0.835 | time: 236.3 seconds\n",
      "Epoch: 273/14999 | Loss: 0.0010 | Episodes: 19 | Win count: 229 | Win rate: 0.836 | time: 236.8 seconds\n",
      "Epoch: 274/14999 | Loss: 0.0005 | Episodes: 8 | Win count: 230 | Win rate: 0.836 | time: 237.0 seconds\n",
      "Epoch: 275/14999 | Loss: 0.0007 | Episodes: 22 | Win count: 231 | Win rate: 0.837 | time: 237.4 seconds\n",
      "Epoch: 276/14999 | Loss: 0.0004 | Episodes: 33 | Win count: 232 | Win rate: 0.838 | time: 238.1 seconds\n",
      "Epoch: 277/14999 | Loss: 0.0004 | Episodes: 14 | Win count: 233 | Win rate: 0.838 | time: 238.4 seconds\n",
      "Epoch: 278/14999 | Loss: 0.0007 | Episodes: 23 | Win count: 234 | Win rate: 0.839 | time: 238.9 seconds\n",
      "Epoch: 279/14999 | Loss: 0.0010 | Episodes: 27 | Win count: 235 | Win rate: 0.839 | time: 239.4 seconds\n",
      "Epoch: 280/14999 | Loss: 0.0012 | Episodes: 18 | Win count: 236 | Win rate: 0.840 | time: 239.8 seconds\n",
      "Epoch: 281/14999 | Loss: 0.0009 | Episodes: 1 | Win count: 237 | Win rate: 0.840 | time: 239.9 seconds\n",
      "Epoch: 282/14999 | Loss: 0.0010 | Episodes: 23 | Win count: 238 | Win rate: 0.841 | time: 240.4 seconds\n",
      "Epoch: 283/14999 | Loss: 0.0012 | Episodes: 26 | Win count: 239 | Win rate: 0.842 | time: 240.9 seconds\n",
      "Epoch: 284/14999 | Loss: 0.0006 | Episodes: 150 | Win count: 240 | Win rate: 0.842 | time: 244.2 seconds\n",
      "Epoch: 285/14999 | Loss: 0.0006 | Episodes: 2 | Win count: 241 | Win rate: 0.843 | time: 244.3 seconds\n",
      "Epoch: 286/14999 | Loss: 0.0007 | Episodes: 18 | Win count: 242 | Win rate: 0.843 | time: 244.8 seconds\n",
      "Epoch: 287/14999 | Loss: 0.0008 | Episodes: 17 | Win count: 243 | Win rate: 0.844 | time: 245.2 seconds\n",
      "Epoch: 288/14999 | Loss: 0.0018 | Episodes: 9 | Win count: 244 | Win rate: 0.844 | time: 245.4 seconds\n",
      "Epoch: 289/14999 | Loss: 0.0018 | Episodes: 10 | Win count: 245 | Win rate: 0.845 | time: 245.6 seconds\n",
      "Epoch: 290/14999 | Loss: 0.0007 | Episodes: 3 | Win count: 246 | Win rate: 0.845 | time: 245.7 seconds\n",
      "Epoch: 291/14999 | Loss: 0.0009 | Episodes: 3 | Win count: 247 | Win rate: 0.846 | time: 245.8 seconds\n",
      "Epoch: 292/14999 | Loss: 0.0003 | Episodes: 7 | Win count: 248 | Win rate: 0.846 | time: 246.0 seconds\n",
      "Epoch: 293/14999 | Loss: 0.0007 | Episodes: 5 | Win count: 249 | Win rate: 0.847 | time: 246.1 seconds\n",
      "Epoch: 294/14999 | Loss: 0.0002 | Episodes: 47 | Win count: 250 | Win rate: 0.847 | time: 247.0 seconds\n",
      "Epoch: 295/14999 | Loss: 0.0011 | Episodes: 23 | Win count: 251 | Win rate: 0.848 | time: 247.5 seconds\n",
      "Epoch: 296/14999 | Loss: 0.0006 | Episodes: 2 | Win count: 252 | Win rate: 0.848 | time: 247.6 seconds\n",
      "Epoch: 297/14999 | Loss: 0.0007 | Episodes: 4 | Win count: 253 | Win rate: 0.849 | time: 247.7 seconds\n",
      "Epoch: 298/14999 | Loss: 0.0009 | Episodes: 19 | Win count: 254 | Win rate: 0.849 | time: 248.1 seconds\n",
      "Epoch: 299/14999 | Loss: 0.0007 | Episodes: 8 | Win count: 255 | Win rate: 0.850 | time: 248.3 seconds\n",
      "Epoch: 300/14999 | Loss: 0.0010 | Episodes: 39 | Win count: 256 | Win rate: 0.850 | time: 249.2 seconds\n",
      "Epoch: 301/14999 | Loss: 0.0004 | Episodes: 33 | Win count: 257 | Win rate: 0.851 | time: 249.9 seconds\n",
      "Epoch: 302/14999 | Loss: 0.0010 | Episodes: 1 | Win count: 258 | Win rate: 0.851 | time: 249.9 seconds\n",
      "Epoch: 303/14999 | Loss: 0.0008 | Episodes: 42 | Win count: 259 | Win rate: 0.852 | time: 250.8 seconds\n",
      "Epoch: 304/14999 | Loss: 0.0007 | Episodes: 56 | Win count: 260 | Win rate: 0.852 | time: 251.9 seconds\n",
      "Epoch: 305/14999 | Loss: 0.0006 | Episodes: 16 | Win count: 261 | Win rate: 0.853 | time: 252.2 seconds\n",
      "Epoch: 306/14999 | Loss: 0.0007 | Episodes: 20 | Win count: 262 | Win rate: 0.853 | time: 252.6 seconds\n",
      "Epoch: 307/14999 | Loss: 0.0010 | Episodes: 50 | Win count: 263 | Win rate: 0.854 | time: 253.6 seconds\n",
      "Epoch: 308/14999 | Loss: 0.0007 | Episodes: 6 | Win count: 264 | Win rate: 0.854 | time: 253.8 seconds\n",
      "Epoch: 309/14999 | Loss: 0.0006 | Episodes: 1 | Win count: 265 | Win rate: 0.855 | time: 253.9 seconds\n",
      "Epoch: 310/14999 | Loss: 0.0012 | Episodes: 1 | Win count: 266 | Win rate: 0.855 | time: 253.9 seconds\n",
      "Epoch: 311/14999 | Loss: 0.0010 | Episodes: 10 | Win count: 267 | Win rate: 0.856 | time: 254.2 seconds\n",
      "Epoch: 312/14999 | Loss: 0.0010 | Episodes: 27 | Win count: 268 | Win rate: 0.856 | time: 254.7 seconds\n",
      "Epoch: 313/14999 | Loss: 0.0006 | Episodes: 2 | Win count: 269 | Win rate: 0.857 | time: 254.8 seconds\n",
      "Epoch: 314/14999 | Loss: 0.0005 | Episodes: 31 | Win count: 270 | Win rate: 0.857 | time: 255.4 seconds\n",
      "Epoch: 315/14999 | Loss: 0.0004 | Episodes: 7 | Win count: 271 | Win rate: 0.858 | time: 255.6 seconds\n",
      "Epoch: 316/14999 | Loss: 0.0007 | Episodes: 4 | Win count: 272 | Win rate: 0.858 | time: 255.7 seconds\n",
      "Epoch: 317/14999 | Loss: 0.0007 | Episodes: 14 | Win count: 273 | Win rate: 0.858 | time: 256.0 seconds\n",
      "Epoch: 318/14999 | Loss: 0.0009 | Episodes: 17 | Win count: 274 | Win rate: 0.859 | time: 256.4 seconds\n",
      "Epoch: 319/14999 | Loss: 0.0011 | Episodes: 26 | Win count: 275 | Win rate: 0.859 | time: 256.9 seconds\n",
      "Epoch: 320/14999 | Loss: 0.0003 | Episodes: 19 | Win count: 276 | Win rate: 0.860 | time: 257.3 seconds\n",
      "Epoch: 321/14999 | Loss: 0.0010 | Episodes: 17 | Win count: 277 | Win rate: 0.860 | time: 257.7 seconds\n",
      "Epoch: 322/14999 | Loss: 0.0009 | Episodes: 21 | Win count: 278 | Win rate: 0.861 | time: 258.1 seconds\n",
      "Epoch: 323/14999 | Loss: 0.0010 | Episodes: 25 | Win count: 279 | Win rate: 0.861 | time: 258.6 seconds\n",
      "Epoch: 324/14999 | Loss: 0.0003 | Episodes: 12 | Win count: 280 | Win rate: 0.862 | time: 258.9 seconds\n",
      "Epoch: 325/14999 | Loss: 0.0001 | Episodes: 21 | Win count: 281 | Win rate: 0.862 | time: 259.3 seconds\n",
      "Epoch: 326/14999 | Loss: 0.0010 | Episodes: 2 | Win count: 282 | Win rate: 0.862 | time: 259.4 seconds\n",
      "Epoch: 327/14999 | Loss: 0.0005 | Episodes: 20 | Win count: 283 | Win rate: 0.863 | time: 259.8 seconds\n",
      "Epoch: 328/14999 | Loss: 0.0002 | Episodes: 18 | Win count: 284 | Win rate: 0.863 | time: 260.4 seconds\n",
      "Epoch: 329/14999 | Loss: 0.0006 | Episodes: 6 | Win count: 285 | Win rate: 0.864 | time: 260.5 seconds\n",
      "Epoch: 330/14999 | Loss: 0.0004 | Episodes: 14 | Win count: 286 | Win rate: 0.864 | time: 260.8 seconds\n",
      "Epoch: 331/14999 | Loss: 0.0004 | Episodes: 33 | Win count: 287 | Win rate: 0.864 | time: 261.5 seconds\n",
      "Epoch: 332/14999 | Loss: 0.0008 | Episodes: 16 | Win count: 288 | Win rate: 0.865 | time: 261.9 seconds\n",
      "Epoch: 333/14999 | Loss: 0.0006 | Episodes: 18 | Win count: 289 | Win rate: 0.865 | time: 262.2 seconds\n",
      "Epoch: 334/14999 | Loss: 0.0010 | Episodes: 26 | Win count: 290 | Win rate: 0.866 | time: 262.8 seconds\n",
      "Epoch: 335/14999 | Loss: 0.0004 | Episodes: 37 | Win count: 291 | Win rate: 0.866 | time: 263.5 seconds\n",
      "Epoch: 336/14999 | Loss: 0.0009 | Episodes: 15 | Win count: 292 | Win rate: 0.866 | time: 264.0 seconds\n",
      "Epoch: 337/14999 | Loss: 0.0010 | Episodes: 15 | Win count: 293 | Win rate: 0.867 | time: 264.4 seconds\n",
      "Epoch: 338/14999 | Loss: 0.0005 | Episodes: 26 | Win count: 294 | Win rate: 0.867 | time: 265.0 seconds\n",
      "Epoch: 339/14999 | Loss: 0.0002 | Episodes: 12 | Win count: 295 | Win rate: 0.868 | time: 265.2 seconds\n",
      "Epoch: 340/14999 | Loss: 0.0006 | Episodes: 33 | Win count: 296 | Win rate: 0.868 | time: 265.9 seconds\n",
      "Epoch: 341/14999 | Loss: 0.0009 | Episodes: 30 | Win count: 297 | Win rate: 0.868 | time: 266.5 seconds\n",
      "Epoch: 342/14999 | Loss: 0.0012 | Episodes: 28 | Win count: 298 | Win rate: 0.869 | time: 267.3 seconds\n",
      "Epoch: 343/14999 | Loss: 0.0002 | Episodes: 35 | Win count: 299 | Win rate: 0.869 | time: 268.0 seconds\n",
      "Epoch: 344/14999 | Loss: 0.0006 | Episodes: 7 | Win count: 300 | Win rate: 0.870 | time: 268.2 seconds\n",
      "Epoch: 345/14999 | Loss: 0.0002 | Episodes: 33 | Win count: 301 | Win rate: 0.870 | time: 269.0 seconds\n",
      "Epoch: 346/14999 | Loss: 0.0005 | Episodes: 21 | Win count: 302 | Win rate: 0.870 | time: 269.4 seconds\n",
      "Epoch: 347/14999 | Loss: 0.0008 | Episodes: 9 | Win count: 303 | Win rate: 0.871 | time: 269.7 seconds\n",
      "Epoch: 348/14999 | Loss: 0.0006 | Episodes: 26 | Win count: 304 | Win rate: 0.871 | time: 270.3 seconds\n",
      "Epoch: 349/14999 | Loss: 0.0008 | Episodes: 9 | Win count: 305 | Win rate: 0.871 | time: 270.5 seconds\n",
      "Epoch: 350/14999 | Loss: 0.0014 | Episodes: 18 | Win count: 306 | Win rate: 0.872 | time: 271.0 seconds\n",
      "Epoch: 351/14999 | Loss: 0.0007 | Episodes: 36 | Win count: 307 | Win rate: 0.872 | time: 271.8 seconds\n",
      "Epoch: 352/14999 | Loss: 0.0005 | Episodes: 1 | Win count: 308 | Win rate: 0.873 | time: 271.8 seconds\n",
      "Epoch: 353/14999 | Loss: 0.0003 | Episodes: 9 | Win count: 309 | Win rate: 0.873 | time: 272.0 seconds\n",
      "Epoch: 354/14999 | Loss: 0.0008 | Episodes: 55 | Win count: 310 | Win rate: 0.873 | time: 273.1 seconds\n",
      "Epoch: 355/14999 | Loss: 0.0010 | Episodes: 2 | Win count: 311 | Win rate: 0.874 | time: 273.2 seconds\n",
      "Epoch: 356/14999 | Loss: 0.0006 | Episodes: 33 | Win count: 312 | Win rate: 0.874 | time: 273.9 seconds\n",
      "Epoch: 357/14999 | Loss: 0.0003 | Episodes: 7 | Win count: 313 | Win rate: 0.874 | time: 274.1 seconds\n",
      "Epoch: 358/14999 | Loss: 0.0008 | Episodes: 5 | Win count: 314 | Win rate: 0.875 | time: 274.3 seconds\n",
      "Epoch: 359/14999 | Loss: 0.0009 | Episodes: 16 | Win count: 315 | Win rate: 0.875 | time: 274.7 seconds\n",
      "Epoch: 360/14999 | Loss: 0.0006 | Episodes: 9 | Win count: 316 | Win rate: 0.875 | time: 275.0 seconds\n",
      "Epoch: 361/14999 | Loss: 0.0007 | Episodes: 7 | Win count: 317 | Win rate: 0.876 | time: 275.2 seconds\n",
      "Epoch: 362/14999 | Loss: 0.0003 | Episodes: 24 | Win count: 318 | Win rate: 0.876 | time: 275.7 seconds\n",
      "Epoch: 363/14999 | Loss: 0.0006 | Episodes: 55 | Win count: 319 | Win rate: 0.876 | time: 276.8 seconds\n",
      "Epoch: 364/14999 | Loss: 0.0009 | Episodes: 16 | Win count: 320 | Win rate: 0.877 | time: 277.2 seconds\n",
      "Epoch: 365/14999 | Loss: 0.0006 | Episodes: 20 | Win count: 321 | Win rate: 0.877 | time: 277.7 seconds\n",
      "Epoch: 366/14999 | Loss: 0.0010 | Episodes: 8 | Win count: 322 | Win rate: 0.877 | time: 277.9 seconds\n",
      "Epoch: 367/14999 | Loss: 0.0007 | Episodes: 7 | Win count: 323 | Win rate: 0.878 | time: 278.1 seconds\n",
      "Epoch: 368/14999 | Loss: 0.0012 | Episodes: 55 | Win count: 324 | Win rate: 0.878 | time: 279.2 seconds\n",
      "Epoch: 369/14999 | Loss: 0.0010 | Episodes: 11 | Win count: 325 | Win rate: 0.878 | time: 279.6 seconds\n",
      "Epoch: 370/14999 | Loss: 0.0009 | Episodes: 8 | Win count: 326 | Win rate: 0.879 | time: 279.8 seconds\n",
      "Epoch: 371/14999 | Loss: 0.0009 | Episodes: 28 | Win count: 327 | Win rate: 0.879 | time: 280.6 seconds\n",
      "Epoch: 372/14999 | Loss: 0.0007 | Episodes: 33 | Win count: 328 | Win rate: 0.879 | time: 281.2 seconds\n",
      "Epoch: 373/14999 | Loss: 0.0007 | Episodes: 40 | Win count: 329 | Win rate: 0.880 | time: 282.0 seconds\n",
      "Epoch: 374/14999 | Loss: 0.0007 | Episodes: 16 | Win count: 330 | Win rate: 0.880 | time: 282.4 seconds\n",
      "Epoch: 375/14999 | Loss: 0.0005 | Episodes: 25 | Win count: 331 | Win rate: 0.880 | time: 282.9 seconds\n",
      "Epoch: 376/14999 | Loss: 0.0014 | Episodes: 19 | Win count: 332 | Win rate: 0.881 | time: 283.3 seconds\n",
      "Epoch: 377/14999 | Loss: 0.0007 | Episodes: 2 | Win count: 333 | Win rate: 0.881 | time: 283.4 seconds\n",
      "Epoch: 378/14999 | Loss: 0.0006 | Episodes: 10 | Win count: 334 | Win rate: 0.881 | time: 283.7 seconds\n",
      "Epoch: 379/14999 | Loss: 0.0005 | Episodes: 7 | Win count: 335 | Win rate: 0.882 | time: 283.9 seconds\n",
      "Epoch: 380/14999 | Loss: 0.0008 | Episodes: 11 | Win count: 336 | Win rate: 0.882 | time: 284.3 seconds\n",
      "Epoch: 381/14999 | Loss: 0.0011 | Episodes: 6 | Win count: 337 | Win rate: 0.882 | time: 284.6 seconds\n",
      "Epoch: 382/14999 | Loss: 0.0010 | Episodes: 21 | Win count: 338 | Win rate: 0.883 | time: 285.2 seconds\n",
      "Epoch: 383/14999 | Loss: 0.0013 | Episodes: 30 | Win count: 339 | Win rate: 0.883 | time: 285.8 seconds\n",
      "Epoch: 384/14999 | Loss: 0.0006 | Episodes: 6 | Win count: 340 | Win rate: 0.883 | time: 286.0 seconds\n",
      "Epoch: 385/14999 | Loss: 0.0008 | Episodes: 14 | Win count: 341 | Win rate: 0.883 | time: 286.5 seconds\n",
      "Epoch: 386/14999 | Loss: 0.0004 | Episodes: 8 | Win count: 342 | Win rate: 0.884 | time: 286.9 seconds\n",
      "Epoch: 387/14999 | Loss: 0.0008 | Episodes: 2 | Win count: 343 | Win rate: 0.884 | time: 286.9 seconds\n",
      "Epoch: 388/14999 | Loss: 0.0003 | Episodes: 29 | Win count: 344 | Win rate: 0.884 | time: 287.5 seconds\n",
      "Epoch: 389/14999 | Loss: 0.0003 | Episodes: 13 | Win count: 345 | Win rate: 0.885 | time: 287.9 seconds\n",
      "Epoch: 390/14999 | Loss: 0.0012 | Episodes: 9 | Win count: 346 | Win rate: 0.885 | time: 288.3 seconds\n",
      "Epoch: 391/14999 | Loss: 0.0012 | Episodes: 1 | Win count: 347 | Win rate: 0.885 | time: 288.3 seconds\n",
      "Epoch: 392/14999 | Loss: 0.0011 | Episodes: 10 | Win count: 348 | Win rate: 0.885 | time: 288.6 seconds\n",
      "Epoch: 393/14999 | Loss: 0.0009 | Episodes: 25 | Win count: 349 | Win rate: 0.886 | time: 289.1 seconds\n",
      "Epoch: 394/14999 | Loss: 0.0008 | Episodes: 33 | Win count: 350 | Win rate: 0.886 | time: 289.7 seconds\n",
      "Epoch: 395/14999 | Loss: 0.0007 | Episodes: 44 | Win count: 351 | Win rate: 0.886 | time: 290.6 seconds\n",
      "Epoch: 396/14999 | Loss: 0.0008 | Episodes: 15 | Win count: 352 | Win rate: 0.887 | time: 291.0 seconds\n",
      "Epoch: 397/14999 | Loss: 0.0003 | Episodes: 21 | Win count: 353 | Win rate: 0.887 | time: 291.5 seconds\n",
      "Epoch: 398/14999 | Loss: 0.0008 | Episodes: 30 | Win count: 354 | Win rate: 0.887 | time: 292.3 seconds\n",
      "Epoch: 399/14999 | Loss: 0.0007 | Episodes: 2 | Win count: 355 | Win rate: 0.887 | time: 292.5 seconds\n",
      "Epoch: 400/14999 | Loss: 0.0004 | Episodes: 28 | Win count: 356 | Win rate: 0.888 | time: 293.1 seconds\n",
      "Epoch: 401/14999 | Loss: 0.0009 | Episodes: 1 | Win count: 357 | Win rate: 0.888 | time: 293.2 seconds\n",
      "Epoch: 402/14999 | Loss: 0.0007 | Episodes: 22 | Win count: 358 | Win rate: 0.888 | time: 293.7 seconds\n",
      "Epoch: 403/14999 | Loss: 0.0010 | Episodes: 9 | Win count: 359 | Win rate: 0.889 | time: 293.9 seconds\n",
      "Epoch: 404/14999 | Loss: 0.0001 | Episodes: 24 | Win count: 360 | Win rate: 0.889 | time: 294.4 seconds\n",
      "Epoch: 405/14999 | Loss: 0.0003 | Episodes: 18 | Win count: 361 | Win rate: 0.889 | time: 294.9 seconds\n",
      "Epoch: 406/14999 | Loss: 0.0006 | Episodes: 18 | Win count: 362 | Win rate: 0.889 | time: 295.3 seconds\n",
      "Epoch: 407/14999 | Loss: 0.0006 | Episodes: 27 | Win count: 363 | Win rate: 0.890 | time: 295.8 seconds\n",
      "Epoch: 408/14999 | Loss: 0.0005 | Episodes: 35 | Win count: 364 | Win rate: 0.890 | time: 296.6 seconds\n",
      "Epoch: 409/14999 | Loss: 0.0008 | Episodes: 35 | Win count: 365 | Win rate: 0.890 | time: 297.3 seconds\n",
      "Epoch: 410/14999 | Loss: 0.0005 | Episodes: 26 | Win count: 366 | Win rate: 0.891 | time: 297.9 seconds\n",
      "Epoch: 411/14999 | Loss: 0.0010 | Episodes: 8 | Win count: 367 | Win rate: 0.891 | time: 298.1 seconds\n",
      "Epoch: 412/14999 | Loss: 0.0004 | Episodes: 2 | Win count: 368 | Win rate: 0.891 | time: 298.1 seconds\n",
      "Epoch: 413/14999 | Loss: 0.0012 | Episodes: 36 | Win count: 369 | Win rate: 0.891 | time: 298.9 seconds\n",
      "Epoch: 414/14999 | Loss: 0.0004 | Episodes: 31 | Win count: 370 | Win rate: 0.892 | time: 299.6 seconds\n",
      "Epoch: 415/14999 | Loss: 0.0003 | Episodes: 27 | Win count: 371 | Win rate: 0.892 | time: 300.4 seconds\n",
      "Epoch: 416/14999 | Loss: 0.0002 | Episodes: 1 | Win count: 372 | Win rate: 0.892 | time: 300.5 seconds\n",
      "Epoch: 417/14999 | Loss: 0.0008 | Episodes: 23 | Win count: 373 | Win rate: 0.892 | time: 301.1 seconds\n",
      "Epoch: 418/14999 | Loss: 0.0002 | Episodes: 2 | Win count: 374 | Win rate: 0.893 | time: 301.1 seconds\n",
      "Epoch: 419/14999 | Loss: 0.0005 | Episodes: 41 | Win count: 375 | Win rate: 0.893 | time: 302.0 seconds\n",
      "Epoch: 420/14999 | Loss: 0.0005 | Episodes: 5 | Win count: 376 | Win rate: 0.893 | time: 302.1 seconds\n",
      "Epoch: 421/14999 | Loss: 0.0006 | Episodes: 11 | Win count: 377 | Win rate: 0.893 | time: 302.4 seconds\n",
      "Epoch: 422/14999 | Loss: 0.0007 | Episodes: 18 | Win count: 378 | Win rate: 0.894 | time: 302.8 seconds\n",
      "Epoch: 423/14999 | Loss: 0.0001 | Episodes: 26 | Win count: 379 | Win rate: 0.894 | time: 303.3 seconds\n",
      "Reached 100% win rate at epoch: 423\n",
      "n_epoch: 423, max_mem: 512, data: 32, time: 303.6 seconds\n"
     ]
    },
    {
     "data": {
      "text/plain": [
       "303.580769"
      ]
     },
     "execution_count": 189,
     "metadata": {},
     "output_type": "execute_result"
    }
   ],
   "source": [
    "model = build_model(maze)\n",
    "qtrain(model, maze, epochs=1000, max_memory=8*maze.size, data_size=32)"
   ]
  },
  {
   "cell_type": "markdown",
   "metadata": {},
   "source": [
    "This cell will check to see if the model passes the completion check. Note: This could take several minutes."
   ]
  },
  {
   "cell_type": "code",
   "execution_count": 196,
   "metadata": {},
   "outputs": [
    {
     "data": {
      "text/plain": [
       "<matplotlib.image.AxesImage at 0x2157a84dac8>"
      ]
     },
     "execution_count": 196,
     "metadata": {},
     "output_type": "execute_result"
    },
    {
     "data": {
      "image/png": "[encoded data removed]",
      "text/plain": [
       "<Figure size 432x288 with 1 Axes>"
      ]
     },
     "metadata": {
      "needs_background": "light"
     },
     "output_type": "display_data"
    }
   ],
   "source": [
    "completion_check(model, qmaze)\n",
    "show(qmaze)"
   ]
  },
  {
   "cell_type": "markdown",
   "metadata": {},
   "source": [
    "This cell will test your model for one game. It will start the pirate at the top-left corner and run play_game. The agent should find a path from the starting position to the target (treasure). The treasure is located in the bottom-right corner."
   ]
  },
  {
   "cell_type": "code",
   "execution_count": 191,
   "metadata": {},
   "outputs": [
    {
     "data": {
      "text/plain": [
       "<matplotlib.image.AxesImage at 0x215777c58d0>"
      ]
     },
     "execution_count": 191,
     "metadata": {},
     "output_type": "execute_result"
    },
    {
     "data": {
      "image/png": "[encoded data removed]",
      "text/plain": [
       "<Figure size 432x288 with 1 Axes>"
      ]
     },
     "metadata": {
      "needs_background": "light"
     },
     "output_type": "display_data"
    }
   ],
   "source": [
    "pirate_start = (0, 0)\n",
    "play_game(model, qmaze, pirate_start)\n",
    "show(qmaze)"
   ]
  },
  {
   "cell_type": "markdown",
   "metadata": {},
   "source": [
    "## Save and Submit Your Work\n",
    "After you have finished creating the code for your notebook, save your work. Make sure that your notebook contains your name in the filename (e.g. Doe_Jane_ProjectTwo.ipynb). This will help your instructor access and grade your work easily. Download a copy of your IPYNB file and submit it to Brightspace. Refer to the Jupyter Notebook in Apporto Tutorial if you need help with these tasks."
   ]
  }
 ],
 "metadata": {
  "kernelspec": {
   "display_name": "cs370-env",
   "language": "python",
   "name": "python3"
  },
  "language_info": {
   "codemirror_mode": {
    "name": "ipython",
    "version": 3
   },
   "file_extension": ".py",
   "mimetype": "text/x-python",
   "name": "python",
   "nbconvert_exporter": "python",
   "pygments_lexer": "ipython3",
   "version": "3.6.5"
  }
 },
 "nbformat": 4,
 "nbformat_minor": 2
}
